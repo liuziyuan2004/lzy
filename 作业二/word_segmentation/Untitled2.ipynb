{
 "cells": [
  {
   "cell_type": "code",
   "execution_count": 1,
   "id": "0ab64631-8f19-4e66-837b-20b7924ef19c",
   "metadata": {},
   "outputs": [
    {
     "name": "stderr",
     "output_type": "stream",
     "text": [
      "Building prefix dict from the default dictionary ...\n",
      "Loading model from cache C:\\Users\\84585\\AppData\\Local\\Temp\\jieba.cache\n",
      "Loading model cost 0.578 seconds.\n",
      "Prefix dict has been built successfully.\n"
     ]
    },
    {
     "name": "stdout",
     "output_type": "stream",
     "text": [
      "关键词: 重点         权重: 1.0000\n",
      "关键词: 大学         权重: 0.9636\n",
      "关键词: 国家         权重: 0.9273\n",
      "关键词: 河北省        权重: 0.6236\n",
      "关键词: 共建         权重: 0.5434\n"
     ]
    }
   ],
   "source": [
    "import jieba.analyse\n",
    "\n",
    "sentence = \"燕山大学是河北省人民政府、教育部、工业和信息化部、国家国防科技工业局四方共建的全国重点大学，河北省重点支持的国家一流大学和世界一流学科建设高校，北京高科大学联盟成员。\"\n",
    "\n",
    "# 使用 TextRank 算法提取 top-5 关键词\n",
    "keywords = jieba.analyse.textrank(\n",
    "    sentence, \n",
    "    topK=5,           # 提取前 5 个关键词\n",
    "    withWeight=True,  # 返回权重值（可选）\n",
    "    allowPOS=('ns', 'n', 'vn', 'v')  # 允许的词性：地名、名词、动名词、动词\n",
    ")\n",
    "\n",
    "# 输出结果\n",
    "for kw, weight in keywords:\n",
    "    print(f\"关键词: {kw:<10} 权重: {weight:.4f}\")"
   ]
  }
 ],
 "metadata": {
  "kernelspec": {
   "display_name": "Python 3 (ipykernel)",
   "language": "python",
   "name": "python3"
  },
  "language_info": {
   "codemirror_mode": {
    "name": "ipython",
    "version": 3
   },
   "file_extension": ".py",
   "mimetype": "text/x-python",
   "name": "python",
   "nbconvert_exporter": "python",
   "pygments_lexer": "ipython3",
   "version": "3.9.21"
  }
 },
 "nbformat": 4,
 "nbformat_minor": 5
}
