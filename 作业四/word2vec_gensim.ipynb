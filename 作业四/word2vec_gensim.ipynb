{
 "cells": [
  {
   "cell_type": "code",
   "execution_count": 11,
   "id": "6b789a66-231f-4ba6-8635-cdc07e38da59",
   "metadata": {},
   "outputs": [],
   "source": [
    "#词向量\n",
    "import pandas as pd\n",
    "import jieba\n",
    "from gensim.models.word2vec import Word2Vec"
   ]
  },
  {
   "cell_type": "code",
   "execution_count": 12,
   "id": "63314105-a86b-46d9-9e50-d6c8327ef8d8",
   "metadata": {},
   "outputs": [],
   "source": [
    "# 读入训练集文件\n",
    "data = pd.read_csv('train.csv')\n",
    "# 转字符串数组\n",
    "corpus = data['comment'].values.astype(str)\n",
    "# 分词，再重组为字符串数组\n",
    "corpus = [jieba.lcut(corpus[index]\n",
    "                          .replace(\"，\", \"\")\n",
    "                          .replace(\"!\", \"\")\n",
    "                          .replace(\"！\", \"\")\n",
    "                          .replace(\"。\", \"\")\n",
    "                          .replace(\"~\", \"\")\n",
    "                          .replace(\"；\", \"\")\n",
    "                          .replace(\"？\", \"\")\n",
    "                          .replace(\"?\", \"\")\n",
    "                          .replace(\"【\", \"\")\n",
    "                          .replace(\"】\", \"\")\n",
    "                          .replace(\"#\", \"\")\n",
    "                        ) for index in range(len(corpus))]"
   ]
  },
  {
   "cell_type": "code",
   "execution_count": 13,
   "id": "2178bed6-69ca-437c-b9dc-2b2b94dd50b5",
   "metadata": {},
   "outputs": [],
   "source": [
    "# 词向量模型训练\n",
    "model = Word2Vec(corpus, sg=0, vector_size=300, window=5, min_count=3, workers=4)"
   ]
  },
  {
   "cell_type": "code",
   "execution_count": 14,
   "id": "5c4df197-7f66-4505-8425-019c82d585d9",
   "metadata": {},
   "outputs": [
    {
     "name": "stdout",
     "output_type": "stream",
     "text": [
      "\n",
      "1. '环境'的词向量形状: (300,)\n",
      "   '环境'的词向量前5维: [ 0.1879627  -0.12204139  0.34201834  0.17573415 -0.35552353] ...\n",
      "\n"
     ]
    }
   ],
   "source": [
    "env_vector = model.wv['环境']\n",
    "print(\"\\n1. '环境'的词向量形状:\", env_vector.shape)\n",
    "print(\"   '环境'的词向量前5维:\", env_vector[:5], \"...\\n\")"
   ]
  },
  {
   "cell_type": "code",
   "execution_count": 15,
   "id": "dbdc8922-e72b-4a61-951d-f6ca4302a4a3",
   "metadata": {},
   "outputs": [
    {
     "name": "stdout",
     "output_type": "stream",
     "text": [
      "2. 与'好吃'最接近的3个词: [('超级', 0.9517892003059387), ('方便快捷', 0.9413284063339233), ('棒', 0.9373264908790588)] \n",
      "\n"
     ]
    }
   ],
   "source": [
    "similar_words = model.wv.most_similar('好吃', topn=3)\n",
    "print(\"2. 与'好吃'最接近的3个词:\", similar_words, \"\\n\")"
   ]
  },
  {
   "cell_type": "code",
   "execution_count": 16,
   "id": "ad517fb9-48c4-4412-bf3c-8f28978b27c6",
   "metadata": {},
   "outputs": [
    {
     "name": "stdout",
     "output_type": "stream",
     "text": [
      "3. 相似度计算:\n",
      "   '好吃' vs '美味': 0.8524008\n",
      "   '好吃' vs '蟑螂': 0.43257204 \n",
      "\n"
     ]
    }
   ],
   "source": [
    "sim_delicious = model.wv.similarity('好吃', '美味')\n",
    "sim_cockroach = model.wv.similarity('好吃', '蟑螂')\n",
    "print(\"3. 相似度计算:\")\n",
    "print(\"   '好吃' vs '美味':\", sim_delicious)\n",
    "print(\"   '好吃' vs '蟑螂':\", sim_cockroach, \"\\n\")"
   ]
  },
  {
   "cell_type": "code",
   "execution_count": 18,
   "id": "9ed304a4-5eda-473c-8b70-626d630a98cf",
   "metadata": {},
   "outputs": [
    {
     "name": "stdout",
     "output_type": "stream",
     "text": [
      "4. 向量运算'餐厅 + 聚会 - 安静'的结果: ('上班', 0.9957332611083984) \n",
      "\n"
     ]
    }
   ],
   "source": [
    "result = model.wv.most_similar(positive=['餐厅', '聚会'], negative=['安静'], topn=1)\n",
    "print(\"4. 向量运算'餐厅 + 聚会 - 安静'的结果:\", result[0], \"\\n\")"
   ]
  },
  {
   "cell_type": "code",
   "execution_count": null,
   "id": "029d141e-3259-433a-8070-e2dc9a52456a",
   "metadata": {},
   "outputs": [],
   "source": []
  }
 ],
 "metadata": {
  "kernelspec": {
   "display_name": "Python 3 (ipykernel)",
   "language": "python",
   "name": "python3"
  },
  "language_info": {
   "codemirror_mode": {
    "name": "ipython",
    "version": 3
   },
   "file_extension": ".py",
   "mimetype": "text/x-python",
   "name": "python",
   "nbconvert_exporter": "python",
   "pygments_lexer": "ipython3",
   "version": "3.9.21"
  }
 },
 "nbformat": 4,
 "nbformat_minor": 5
}
